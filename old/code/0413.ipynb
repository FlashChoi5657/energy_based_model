{
 "cells": [
  {
   "cell_type": "code",
   "execution_count": 1,
   "metadata": {},
   "outputs": [],
   "source": [
    "import torch\n",
    "import torchvision\n",
    "import torch.optim as optim\n",
    "import pytorch_lightning as pl\n",
    "from torch.nn.parameter import Parameter\n",
    "from torchmetrics import PeakSignalNoiseRatio\n",
    "import matplotlib.pyplot as plt\n",
    "from tqdm import tqdm\n",
    "import numpy as np\n",
    "import datetime\n",
    "import csv\n",
    "import os\n",
    "import argparse\n",
    "from models import CondEnergyModel\n",
    "from energy_based_model.experiments.utils import permute, to_numpy, init_weights, Self_Energy_log, get_dataloaders\n",
    "from energy_based_model.experiments.utils import gaussian_noise, sp_noise, delete_square, generate_Y0"
   ]
  },
  {
   "cell_type": "code",
   "execution_count": 2,
   "metadata": {},
   "outputs": [],
   "source": [
    "parser = argparse.ArgumentParser()\n",
    "parser.add_argument(\"--name\", type=str, default='specifically test')\n",
    "parser.add_argument(\"--dataset\", type=str, default=\"MNIST\")\n",
    "parser.add_argument(\"--train_size\", type=int, default=60000)\n",
    "parser.add_argument(\"--test_size\", type=int, default=10000)\n",
    "parser.add_argument(\"--in_channel\", type=int, default=1)\n",
    "parser.add_argument(\"--dim_feature\", type=int, default=32)\n",
    "parser.add_argument(\"--gaussian_noise\", type=float, default=0.75)\n",
    "parser.add_argument(\"--sp_noise\", type=float, default=0.1)\n",
    "parser.add_argument(\"--square_pixels\", type=int, default=20)\n",
    "parser.add_argument(\"--degradation\", type=str, default='gaussian_noise')\n",
    "parser.add_argument(\"--Y0_type\", type=str, default='id')\n",
    "parser.add_argument(\"--lr_energy_model\", type=float, default=0.001)\n",
    "parser.add_argument(\"--lr_langevin_max\", type=float, default=0.001)\n",
    "parser.add_argument(\"--lr_langevin_min\", type=float, default=0.001)\n",
    "parser.add_argument(\"--number_step_langevin\", type=int, default=10)\n",
    "parser.add_argument(\"--use_energy_sched\", action=\"store_true\", default=False)\n",
    "parser.add_argument(\"--use_subset\", action=\"store_true\", default=False)\n",
    "parser.add_argument(\"--use_label\", type=int, default=4)\n",
    "parser.add_argument(\"--epochs\", type=int, default=100)\n",
    "parser.add_argument(\"--batch_size\", type=int, default=100)\n",
    "parser.add_argument(\"--train_ratio\", type=float, default=1.0)\n",
    "parser.add_argument(\"--use_unpaired\", action=\"store_true\", default=False)\n",
    "parser.add_argument(\"--regular_data\", type=float, default=0.0)\n",
    "parser.add_argument(\"--init_noise_decay\", type=float, default=1.0)\n",
    "parser.add_argument(\"--use_energy_reg\", action=\"store_true\", default=False)\n",
    "parser.add_argument(\"--energy_reg_weight\", type=float, default=0.0)\n",
    "parser.add_argument(\"--use_energy_L2_reg\", action=\"store_true\", default=False)\n",
    "parser.add_argument(\"--energy_L2_reg_weight\", type=float, default=0.0)\n",
    "args = parser.parse_args(args=[])"
   ]
  },
  {
   "cell_type": "code",
   "execution_count": null,
   "metadata": {},
   "outputs": [],
   "source": [
    "curr_dir_path         = os.path.join(os.path.dirname(os.path.abspath(__file__)), '..', 'experiments')\n",
    "name                  = args.name\n",
    "dir_work              = os.path.join(curr_dir_path, name)\n",
    "cuda_device           = 0\n",
    "device                = torch.device(f'cuda:{cuda_device}' if torch.cuda.is_available() else 'cpu')\n",
    "batch_size            = args.batch_size\n",
    "number_epoch          = args.epochs\n",
    "use_energy_sched      = args.use_energy_sched\n",
    "sched_step_size       = 10\n",
    "sched_gamma           = 0.93\n",
    "lr_energy_model       = args.lr_energy_model\n",
    "lr_langevin_max       = args.lr_langevin_max\n",
    "lr_langevin_min       = args.lr_langevin_min\n",
    "number_step_langevin  = args.number_step_langevin\n",
    "regular_data          = args.regular_data\n",
    "init_noise_decay      = args.init_noise_decay\n",
    "use_reg               = args.use_energy_reg\n",
    "reg_weight            = args.energy_reg_weight\n",
    "use_L2_reg            = args.use_energy_L2_reg\n",
    "L2_reg_weight         = args.energy_L2_reg_weight\n",
    "add_noise             = True\n",
    "use_unpaired          = args.use_unpaired\n",
    "in_channel            = args.in_channel\n",
    "dim_feature           = args.dim_feature\n",
    "dim_output            = 1\n",
    "degradation           = args.degradation\n",
    "Y0_type               = args.Y0_type\n",
    "sigma_noise           = args.gaussian_noise\n",
    "snp_noise             = args.sp_noise\n",
    "square_pixels         = args.square_pixels\n",
    "seed                  = 0\n",
    "list_lr_langevin      = np.linspace(lr_langevin_max, lr_langevin_min, num=number_epoch, endpoint=True)\n",
    "pl.seed_everything(0)"
   ]
  }
 ],
 "metadata": {
  "kernelspec": {
   "display_name": "base",
   "language": "python",
   "name": "python3"
  },
  "language_info": {
   "codemirror_mode": {
    "name": "ipython",
    "version": 3
   },
   "file_extension": ".py",
   "mimetype": "text/x-python",
   "name": "python",
   "nbconvert_exporter": "python",
   "pygments_lexer": "ipython3",
   "version": "3.9.13"
  },
  "orig_nbformat": 4
 },
 "nbformat": 4,
 "nbformat_minor": 2
}
