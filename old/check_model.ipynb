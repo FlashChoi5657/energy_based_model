{
 "cells": [
  {
   "cell_type": "code",
   "execution_count": 2,
   "metadata": {},
   "outputs": [
    {
     "name": "stdout",
     "output_type": "stream",
     "text": [
      "===============================================================================================\n",
      "Layer (type:depth-idx)                        Output Shape              Param #\n",
      "===============================================================================================\n",
      "UNet                                          [10, 3, 32, 32]           --\n",
      "├─DoubleConv: 1-1                             [10, 64, 32, 32]          --\n",
      "│    └─Sequential: 2-1                        [10, 64, 32, 32]          --\n",
      "│    │    └─Conv2d: 3-1                       [10, 64, 32, 32]          1,728\n",
      "│    │    └─BatchNorm2d: 3-2                  [10, 64, 32, 32]          128\n",
      "│    │    └─ReLU: 3-3                         [10, 64, 32, 32]          --\n",
      "│    │    └─Conv2d: 3-4                       [10, 64, 32, 32]          36,864\n",
      "│    │    └─BatchNorm2d: 3-5                  [10, 64, 32, 32]          128\n",
      "│    │    └─ReLU: 3-6                         [10, 64, 32, 32]          --\n",
      "├─Down: 1-2                                   [10, 128, 16, 16]         --\n",
      "│    └─Sequential: 2-2                        [10, 128, 16, 16]         --\n",
      "│    │    └─MaxPool2d: 3-7                    [10, 64, 16, 16]          --\n",
      "│    │    └─DoubleConv: 3-8                   [10, 128, 16, 16]         221,696\n",
      "├─Down: 1-3                                   [10, 256, 8, 8]           --\n",
      "│    └─Sequential: 2-3                        [10, 256, 8, 8]           --\n",
      "│    │    └─MaxPool2d: 3-9                    [10, 128, 8, 8]           --\n",
      "│    │    └─DoubleConv: 3-10                  [10, 256, 8, 8]           885,760\n",
      "├─Down: 1-4                                   [10, 512, 4, 4]           --\n",
      "│    └─Sequential: 2-4                        [10, 512, 4, 4]           --\n",
      "│    │    └─MaxPool2d: 3-11                   [10, 256, 4, 4]           --\n",
      "│    │    └─DoubleConv: 3-12                  [10, 512, 4, 4]           3,540,992\n",
      "├─Down: 1-5                                   [10, 512, 2, 2]           --\n",
      "│    └─Sequential: 2-5                        [10, 512, 2, 2]           --\n",
      "│    │    └─MaxPool2d: 3-13                   [10, 512, 2, 2]           --\n",
      "│    │    └─DoubleConv: 3-14                  [10, 512, 2, 2]           4,720,640\n",
      "├─Up: 1-6                                     [10, 256, 4, 4]           --\n",
      "│    └─Upsample: 2-6                          [10, 512, 4, 4]           --\n",
      "│    └─DoubleConv: 2-7                        [10, 256, 4, 4]           --\n",
      "│    │    └─Sequential: 3-15                  [10, 256, 4, 4]           5,899,776\n",
      "├─Up: 1-7                                     [10, 128, 8, 8]           --\n",
      "│    └─Upsample: 2-8                          [10, 256, 8, 8]           --\n",
      "│    └─DoubleConv: 2-9                        [10, 128, 8, 8]           --\n",
      "│    │    └─Sequential: 3-16                  [10, 128, 8, 8]           1,475,328\n",
      "├─Up: 1-8                                     [10, 64, 16, 16]          --\n",
      "│    └─Upsample: 2-10                         [10, 128, 16, 16]         --\n",
      "│    └─DoubleConv: 2-11                       [10, 64, 16, 16]          --\n",
      "│    │    └─Sequential: 3-17                  [10, 64, 16, 16]          369,024\n",
      "├─Up: 1-9                                     [10, 64, 32, 32]          --\n",
      "│    └─Upsample: 2-12                         [10, 64, 32, 32]          --\n",
      "│    └─DoubleConv: 2-13                       [10, 64, 32, 32]          --\n",
      "│    │    └─Sequential: 3-18                  [10, 64, 32, 32]          110,848\n",
      "├─OutConv: 1-10                               [10, 3, 32, 32]           --\n",
      "│    └─Conv2d: 2-14                           [10, 3, 32, 32]           195\n",
      "├─Tanh: 1-11                                  [10, 3, 32, 32]           --\n",
      "===============================================================================================\n",
      "Total params: 17,263,107\n",
      "Trainable params: 17,263,107\n",
      "Non-trainable params: 0\n",
      "Total mult-adds (G): 6.25\n",
      "===============================================================================================\n",
      "Input size (MB): 0.12\n",
      "Forward/backward pass size (MB): 74.96\n",
      "Params size (MB): 69.05\n",
      "Estimated Total Size (MB): 144.13\n",
      "===============================================================================================\n"
     ]
    }
   ],
   "source": [
    "from models import UNet\n",
    "from torchinfo import summary\n",
    "unet = UNet(3, 32, 3, bilinear=True, out_activation='tanh')\n",
    "print(summary(unet, input_size=(10, 3, 32, 32)))\n"
   ]
  }
 ],
 "metadata": {
  "kernelspec": {
   "display_name": "base",
   "language": "python",
   "name": "python3"
  },
  "language_info": {
   "codemirror_mode": {
    "name": "ipython",
    "version": 3
   },
   "file_extension": ".py",
   "mimetype": "text/x-python",
   "name": "python",
   "nbconvert_exporter": "python",
   "pygments_lexer": "ipython3",
   "version": "3.9.13"
  },
  "orig_nbformat": 4
 },
 "nbformat": 4,
 "nbformat_minor": 2
}
